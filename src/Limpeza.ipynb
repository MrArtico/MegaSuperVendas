{
  "cells": [
    {
      "cell_type": "code",
      "execution_count": 1,
      "metadata": {
        "id": "4tv04jasRf9N"
      },
      "outputs": [],
      "source": [
        "# Importações\n",
        "import pandas as pd\n",
        "import numpy as np\n",
        "from datetime import datetime\n",
        "from difflib import get_close_matches\n",
        "import re\n",
        "from thefuzz import process, fuzz\n",
        "from unidecode import unidecode"
      ]
    },
    {
      "cell_type": "code",
      "execution_count": 2,
      "metadata": {
        "colab": {
          "base_uri": "https://localhost:8080/",
          "height": 947
        },
        "id": "xlrYpZKmDe9S",
        "outputId": "53ddc97d-223b-43f2-f903-dad968e80704"
      },
      "outputs": [
        {
          "data": {
            "text/html": [
              "<div>\n",
              "<style scoped>\n",
              "    .dataframe tbody tr th:only-of-type {\n",
              "        vertical-align: middle;\n",
              "    }\n",
              "\n",
              "    .dataframe tbody tr th {\n",
              "        vertical-align: top;\n",
              "    }\n",
              "\n",
              "    .dataframe thead th {\n",
              "        text-align: right;\n",
              "    }\n",
              "</style>\n",
              "<table border=\"1\" class=\"dataframe\">\n",
              "  <thead>\n",
              "    <tr style=\"text-align: right;\">\n",
              "      <th></th>\n",
              "      <th>id_da_compra</th>\n",
              "      <th>data</th>\n",
              "      <th>hora</th>\n",
              "      <th>cliente</th>\n",
              "      <th>produto</th>\n",
              "      <th>valor</th>\n",
              "      <th>quantidade</th>\n",
              "      <th>total</th>\n",
              "      <th>status</th>\n",
              "      <th>cidade</th>\n",
              "      <th>estado</th>\n",
              "      <th>pais</th>\n",
              "      <th>cep</th>\n",
              "      <th>frete</th>\n",
              "      <th>pagamento</th>\n",
              "      <th>vendedor</th>\n",
              "      <th>marca</th>\n",
              "    </tr>\n",
              "  </thead>\n",
              "  <tbody>\n",
              "    <tr>\n",
              "      <th>0</th>\n",
              "      <td>13679</td>\n",
              "      <td>3/20/2021</td>\n",
              "      <td>23:35:51</td>\n",
              "      <td>LUCAS Araujo Kuhn</td>\n",
              "      <td>Queijo Mussarela</td>\n",
              "      <td>R$ 16,87</td>\n",
              "      <td>13</td>\n",
              "      <td>239.31</td>\n",
              "      <td>Pagamento Confirmado</td>\n",
              "      <td>Niterói</td>\n",
              "      <td>RJ</td>\n",
              "      <td>Brasil</td>\n",
              "      <td>24000-000</td>\n",
              "      <td>20.0</td>\n",
              "      <td>Cartão de Crédito</td>\n",
              "      <td>SAMUEL HENRIQUE CAÇADOR</td>\n",
              "      <td>Porto Alegre</td>\n",
              "    </tr>\n",
              "    <tr>\n",
              "      <th>1</th>\n",
              "      <td>28070</td>\n",
              "      <td>10/30/2020</td>\n",
              "      <td>9:00:53</td>\n",
              "      <td>MICAEL SOUZA RONCETE</td>\n",
              "      <td>Molho de Tomate</td>\n",
              "      <td>R$ 3,25</td>\n",
              "      <td>3</td>\n",
              "      <td>9.75</td>\n",
              "      <td>Pagamento Confirmado</td>\n",
              "      <td>Mariana</td>\n",
              "      <td>MG</td>\n",
              "      <td>Brasil</td>\n",
              "      <td>35420-000</td>\n",
              "      <td>0.0</td>\n",
              "      <td>Pix</td>\n",
              "      <td>MICAEL MALAQUIAS DE SOUZA OLIVEIRA</td>\n",
              "      <td>Fugini</td>\n",
              "    </tr>\n",
              "    <tr>\n",
              "      <th>2</th>\n",
              "      <td>47484</td>\n",
              "      <td>6/9/2021</td>\n",
              "      <td>15:30:28</td>\n",
              "      <td>FELIPE AUGUSTO NERY SILVA</td>\n",
              "      <td>Água Mineral</td>\n",
              "      <td>R$ 1,63</td>\n",
              "      <td>9</td>\n",
              "      <td>36.67</td>\n",
              "      <td>Pagamento Confirmado</td>\n",
              "      <td>Cabo Frio</td>\n",
              "      <td>RJ</td>\n",
              "      <td>Brasil</td>\n",
              "      <td>28900-000</td>\n",
              "      <td>22.0</td>\n",
              "      <td>Transferência Bancária</td>\n",
              "      <td>HENRICO MATOS LIMA DA CUNHA</td>\n",
              "      <td>Minalba</td>\n",
              "    </tr>\n",
              "    <tr>\n",
              "      <th>3</th>\n",
              "      <td>20809</td>\n",
              "      <td>6/4/2022</td>\n",
              "      <td>8:41:23</td>\n",
              "      <td>LEVI RIBEIRO AMORIM</td>\n",
              "      <td>Carvão</td>\n",
              "      <td>R$ 8,74</td>\n",
              "      <td>4</td>\n",
              "      <td>54.96</td>\n",
              "      <td>Em Separação</td>\n",
              "      <td>Campos dos Goytacazes</td>\n",
              "      <td>RJ</td>\n",
              "      <td>Brasil</td>\n",
              "      <td>28000-000</td>\n",
              "      <td>20.0</td>\n",
              "      <td>Pix</td>\n",
              "      <td>GABRIEL QUEIROZ DE AGUIAR</td>\n",
              "      <td>Marca-Brás</td>\n",
              "    </tr>\n",
              "    <tr>\n",
              "      <th>4</th>\n",
              "      <td>47123</td>\n",
              "      <td>5/4/2019</td>\n",
              "      <td>13:38:45</td>\n",
              "      <td>GABRIEL MATOS LIMA DA CUNHA</td>\n",
              "      <td>Café</td>\n",
              "      <td>R$ 9,48</td>\n",
              "      <td>2</td>\n",
              "      <td>18.96</td>\n",
              "      <td>Em Separação</td>\n",
              "      <td>Conselheiro Lafaiete</td>\n",
              "      <td>MG</td>\n",
              "      <td>Brasil</td>\n",
              "      <td>36400-000</td>\n",
              "      <td>0.0</td>\n",
              "      <td>Cartão de Crédito</td>\n",
              "      <td>HENRICO MATOS LIMA DA CUNHA</td>\n",
              "      <td>3 Corações</td>\n",
              "    </tr>\n",
              "    <tr>\n",
              "      <th>...</th>\n",
              "      <td>...</td>\n",
              "      <td>...</td>\n",
              "      <td>...</td>\n",
              "      <td>...</td>\n",
              "      <td>...</td>\n",
              "      <td>...</td>\n",
              "      <td>...</td>\n",
              "      <td>...</td>\n",
              "      <td>...</td>\n",
              "      <td>...</td>\n",
              "      <td>...</td>\n",
              "      <td>...</td>\n",
              "      <td>...</td>\n",
              "      <td>...</td>\n",
              "      <td>...</td>\n",
              "      <td>...</td>\n",
              "      <td>...</td>\n",
              "    </tr>\n",
              "    <tr>\n",
              "      <th>145</th>\n",
              "      <td>10847</td>\n",
              "      <td>10/17/2022</td>\n",
              "      <td>21:51:08</td>\n",
              "      <td>MATHEUS GONÇALVES DOS SANTOS</td>\n",
              "      <td>Sabão em Pó</td>\n",
              "      <td>R$ 6,84</td>\n",
              "      <td>1</td>\n",
              "      <td>18.84</td>\n",
              "      <td>Pagamento Confirmado</td>\n",
              "      <td>Mariana</td>\n",
              "      <td>MG</td>\n",
              "      <td>Brasil</td>\n",
              "      <td>35420-000</td>\n",
              "      <td>12.0</td>\n",
              "      <td>Transferência Bancária</td>\n",
              "      <td>HENRICO MATOS LIMA DA CUNHA</td>\n",
              "      <td>Brilhante</td>\n",
              "    </tr>\n",
              "    <tr>\n",
              "      <th>146</th>\n",
              "      <td>27900</td>\n",
              "      <td>10/22/2018</td>\n",
              "      <td>21:53:30</td>\n",
              "      <td>LUCAS HENRIQUE CAÇADOR</td>\n",
              "      <td>Café</td>\n",
              "      <td>R$ 10,57</td>\n",
              "      <td>2</td>\n",
              "      <td>39.14</td>\n",
              "      <td>Aguardando Pagamento</td>\n",
              "      <td>Santo André</td>\n",
              "      <td>SP</td>\n",
              "      <td>Brasil</td>\n",
              "      <td>09000-000</td>\n",
              "      <td>18.0</td>\n",
              "      <td>Cartão de Crédito</td>\n",
              "      <td>HENRICO VICTOR ALVES</td>\n",
              "      <td>Pilão</td>\n",
              "    </tr>\n",
              "    <tr>\n",
              "      <th>147</th>\n",
              "      <td>44827</td>\n",
              "      <td>10/1/2020</td>\n",
              "      <td>15:16:00</td>\n",
              "      <td>JOÃO SOUZA RONCETE</td>\n",
              "      <td>Shampoo</td>\n",
              "      <td>R$ 11,34</td>\n",
              "      <td>12</td>\n",
              "      <td>136.08</td>\n",
              "      <td>Pagamento Confirmado</td>\n",
              "      <td>Ritápolis</td>\n",
              "      <td>MG</td>\n",
              "      <td>Brasil</td>\n",
              "      <td>36335-000</td>\n",
              "      <td>0.0</td>\n",
              "      <td>Pix</td>\n",
              "      <td>LUCAS VITOR FAÇANHA NEVES</td>\n",
              "      <td>Seda</td>\n",
              "    </tr>\n",
              "    <tr>\n",
              "      <th>148</th>\n",
              "      <td>16077</td>\n",
              "      <td>11/12/2022</td>\n",
              "      <td>15:52:53</td>\n",
              "      <td>RAFAEL HUGO CAZULA PEREIRA</td>\n",
              "      <td>Desinfetante</td>\n",
              "      <td>R$ 5,5</td>\n",
              "      <td>3</td>\n",
              "      <td>16.50</td>\n",
              "      <td>Pagamento Confirmado</td>\n",
              "      <td>Ubá</td>\n",
              "      <td>MG</td>\n",
              "      <td>Brasil</td>\n",
              "      <td>36500-000</td>\n",
              "      <td>0.0</td>\n",
              "      <td>Transferência Bancária</td>\n",
              "      <td>HENRICO VICTOR ALVES</td>\n",
              "      <td>Lysoform</td>\n",
              "    </tr>\n",
              "    <tr>\n",
              "      <th>149</th>\n",
              "      <td>6113</td>\n",
              "      <td>10/17/2022</td>\n",
              "      <td>4:51:37</td>\n",
              "      <td>CARLOS PICANÇO SANTOS FERREIRA SILVA</td>\n",
              "      <td>Sabonete</td>\n",
              "      <td>R$ 3,24</td>\n",
              "      <td>3</td>\n",
              "      <td>29.72</td>\n",
              "      <td>Em Separação</td>\n",
              "      <td>Macaé</td>\n",
              "      <td>RJ</td>\n",
              "      <td>Brasil</td>\n",
              "      <td>27900-000</td>\n",
              "      <td>20.0</td>\n",
              "      <td>Transferência Bancária</td>\n",
              "      <td>HENRICO MATOS LIMA DA CUNHA</td>\n",
              "      <td>Dove</td>\n",
              "    </tr>\n",
              "  </tbody>\n",
              "</table>\n",
              "<p>150 rows × 17 columns</p>\n",
              "</div>"
            ],
            "text/plain": [
              "     id_da_compra        data      hora                               cliente  \\\n",
              "0           13679   3/20/2021  23:35:51                     LUCAS Araujo Kuhn   \n",
              "1           28070  10/30/2020   9:00:53                  MICAEL SOUZA RONCETE   \n",
              "2           47484    6/9/2021  15:30:28             FELIPE AUGUSTO NERY SILVA   \n",
              "3           20809    6/4/2022   8:41:23                 LEVI RIBEIRO AMORIM     \n",
              "4           47123    5/4/2019  13:38:45           GABRIEL MATOS LIMA DA CUNHA   \n",
              "..            ...         ...       ...                                   ...   \n",
              "145         10847  10/17/2022  21:51:08          MATHEUS GONÇALVES DOS SANTOS   \n",
              "146         27900  10/22/2018  21:53:30                LUCAS HENRIQUE CAÇADOR   \n",
              "147         44827   10/1/2020  15:16:00                    JOÃO SOUZA RONCETE   \n",
              "148         16077  11/12/2022  15:52:53            RAFAEL HUGO CAZULA PEREIRA   \n",
              "149          6113  10/17/2022   4:51:37  CARLOS PICANÇO SANTOS FERREIRA SILVA   \n",
              "\n",
              "              produto     valor  quantidade   total                status  \\\n",
              "0    Queijo Mussarela  R$ 16,87          13  239.31  Pagamento Confirmado   \n",
              "1     Molho de Tomate   R$ 3,25           3    9.75  Pagamento Confirmado   \n",
              "2        Água Mineral   R$ 1,63           9   36.67  Pagamento Confirmado   \n",
              "3              Carvão   R$ 8,74           4   54.96          Em Separação   \n",
              "4                Café   R$ 9,48           2   18.96          Em Separação   \n",
              "..                ...       ...         ...     ...                   ...   \n",
              "145       Sabão em Pó   R$ 6,84           1   18.84  Pagamento Confirmado   \n",
              "146              Café  R$ 10,57           2   39.14  Aguardando Pagamento   \n",
              "147           Shampoo  R$ 11,34          12  136.08  Pagamento Confirmado   \n",
              "148      Desinfetante    R$ 5,5           3   16.50  Pagamento Confirmado   \n",
              "149          Sabonete   R$ 3,24           3   29.72          Em Separação   \n",
              "\n",
              "                    cidade estado    pais        cep  frete  \\\n",
              "0                  Niterói     RJ  Brasil  24000-000   20.0   \n",
              "1                  Mariana     MG  Brasil  35420-000    0.0   \n",
              "2                Cabo Frio     RJ  Brasil  28900-000   22.0   \n",
              "3    Campos dos Goytacazes     RJ  Brasil  28000-000   20.0   \n",
              "4     Conselheiro Lafaiete     MG  Brasil  36400-000    0.0   \n",
              "..                     ...    ...     ...        ...    ...   \n",
              "145                Mariana     MG  Brasil  35420-000   12.0   \n",
              "146            Santo André     SP  Brasil  09000-000   18.0   \n",
              "147              Ritápolis     MG  Brasil  36335-000    0.0   \n",
              "148                    Ubá     MG  Brasil  36500-000    0.0   \n",
              "149                  Macaé     RJ  Brasil  27900-000   20.0   \n",
              "\n",
              "                  pagamento                            vendedor         marca  \n",
              "0         Cartão de Crédito             SAMUEL HENRIQUE CAÇADOR  Porto Alegre  \n",
              "1                       Pix  MICAEL MALAQUIAS DE SOUZA OLIVEIRA        Fugini  \n",
              "2    Transferência Bancária         HENRICO MATOS LIMA DA CUNHA       Minalba  \n",
              "3                       Pix           GABRIEL QUEIROZ DE AGUIAR    Marca-Brás  \n",
              "4         Cartão de Crédito         HENRICO MATOS LIMA DA CUNHA    3 Corações  \n",
              "..                      ...                                 ...           ...  \n",
              "145  Transferência Bancária         HENRICO MATOS LIMA DA CUNHA     Brilhante  \n",
              "146       Cartão de Crédito                HENRICO VICTOR ALVES         Pilão  \n",
              "147                     Pix           LUCAS VITOR FAÇANHA NEVES          Seda  \n",
              "148  Transferência Bancária                HENRICO VICTOR ALVES      Lysoform  \n",
              "149  Transferência Bancária         HENRICO MATOS LIMA DA CUNHA          Dove  \n",
              "\n",
              "[150 rows x 17 columns]"
            ]
          },
          "execution_count": 2,
          "metadata": {},
          "output_type": "execute_result"
        }
      ],
      "source": [
        "# Visualização da tabela suja (estudos iniciais)\n",
        "df = pd.read_csv('../vendas_modificado.csv')\n",
        "df_mod = df.copy()\n",
        "df.head(150)"
      ]
    },
    {
      "cell_type": "markdown",
      "metadata": {},
      "source": [
        "### **PROBLEMA:** Problemas de Formatação (Datas e Horas)\n",
        "### **SOLUÇÃO:** Padronizar datas e horas"
      ]
    },
    {
      "cell_type": "code",
      "execution_count": 3,
      "metadata": {
        "colab": {
          "base_uri": "https://localhost:8080/"
        },
        "id": "8C90HxmrwpxW",
        "outputId": "3dc8f81b-96c0-468a-fbd2-3f547af7fc8d"
      },
      "outputs": [],
      "source": [
        "df_mod['data'] = pd.to_datetime(df_mod['data'], errors='coerce').dt.strftime('%Y-%m-%d')\n"
      ]
    },
    {
      "cell_type": "code",
      "execution_count": 4,
      "metadata": {
        "colab": {
          "base_uri": "https://localhost:8080/"
        },
        "id": "jREG8cMR_cwX",
        "outputId": "f55090b4-2730-42f7-f8ce-7839d1bfc1c9"
      },
      "outputs": [
        {
          "name": "stderr",
          "output_type": "stream",
          "text": [
            "C:\\Users\\Jakarta\\AppData\\Local\\Temp\\ipykernel_14192\\629907975.py:1: UserWarning: Could not infer format, so each element will be parsed individually, falling back to `dateutil`. To ensure parsing is consistent and as-expected, please specify a format.\n",
            "  df_mod['hora'] = pd.to_datetime(df_mod['hora'], errors='coerce').dt.strftime('%H:%M:%S')\n"
          ]
        }
      ],
      "source": [
        "df_mod['hora'] = pd.to_datetime(df_mod['hora'], errors='coerce').dt.strftime('%H:%M:%S')"
      ]
    },
    {
      "cell_type": "markdown",
      "metadata": {},
      "source": [
        "### **PROBLEMA:** Problemas de Formatação e Valores Inconsistentes em \"valor\"\n",
        "### **SOLUÇÃO:** Converter valores monetários de string para float\n"
      ]
    },
    {
      "cell_type": "code",
      "execution_count": 5,
      "metadata": {
        "colab": {
          "base_uri": "https://localhost:8080/"
        },
        "id": "iC_ZUc3kDW6g",
        "outputId": "478ddace-23d3-4968-d087-30099c9ec20d"
      },
      "outputs": [],
      "source": [
        "def normalizar_valor(valor):\n",
        "    if pd.isna(valor): return np.nan\n",
        "    valor_str = str(valor).replace('R$', '').replace('.', '').replace(',', '.').strip()\n",
        "    try:\n",
        "        return round(float(valor_str), 2)\n",
        "    except:\n",
        "        return np.nan\n",
        "\n",
        "df_mod['valor'] = df_mod['valor'].apply(normalizar_valor)"
      ]
    },
    {
      "cell_type": "markdown",
      "metadata": {},
      "source": [
        "### **PROBLEMA:** Tipos de Dados incorretos nas colunas numéricas\n",
        "### **SOLUÇÃO:** Converter com segurança para os tipos corretos"
      ]
    },
    {
      "cell_type": "code",
      "execution_count": 6,
      "metadata": {},
      "outputs": [],
      "source": [
        "colunas_numericas = ['quantidade', 'total', 'frete']\n",
        "for col in colunas_numericas:\n",
        "    df_mod[col] = pd.to_numeric(df_mod[col], errors='coerce')\n",
        "\n",
        "df_mod['quantidade'] = df_mod['quantidade'].round().astype(int)"
      ]
    },
    {
      "cell_type": "markdown",
      "metadata": {},
      "source": [
        "### **PROBLEMA:** Valores Inconsistentes na coluna \"total\"\n",
        "### **SOLUÇÃO:** Recalcular corretamente o total\n"
      ]
    },
    {
      "cell_type": "code",
      "execution_count": 7,
      "metadata": {},
      "outputs": [],
      "source": [
        "# Corrigir tipo da quantidade (int)\n",
        "def corrigir_total(df):\n",
        "    df_corrigido = df.copy()\n",
        "    df_corrigido['total'] = (df_corrigido['valor'] * df_corrigido['quantidade'] + df_corrigido['frete']).round(2)\n",
        "    return df_corrigido\n",
        "\n",
        "df_mod = corrigir_total(df_mod)"
      ]
    },
    {
      "cell_type": "markdown",
      "metadata": {},
      "source": [
        "### **PROBLEMA:** Dados Faltantes nas colunas críticas\n",
        "### **SOLUÇÃO:** Preencher com valores padrão seguros"
      ]
    },
    {
      "cell_type": "code",
      "execution_count": 8,
      "metadata": {},
      "outputs": [],
      "source": [
        "colunas_criticas = ['valor', 'quantidade', 'total', 'frete', 'cliente', 'vendedor', 'cep']\n",
        "for col in colunas_criticas:\n",
        "    if df_mod[col].dtype == object:\n",
        "        df_mod[col] = df_mod[col].fillna('Desconhecido').str.strip()\n",
        "    else:\n",
        "        df_mod[col] = df_mod[col].fillna(0)"
      ]
    },
    {
      "cell_type": "markdown",
      "metadata": {},
      "source": [
        "### **PROBLEMA:** Problemas de Padronização (Produtos com variações)\n",
        "### **SOLUÇÃO:** Limpeza de caracteres e agrupamento por similaridade textual"
      ]
    },
    {
      "cell_type": "code",
      "execution_count": 9,
      "metadata": {},
      "outputs": [],
      "source": [
        "def limpar_caracteres_especiais(df, column='produto'):\n",
        "    df[column] = df[column].astype(str).apply(lambda x: re.sub(r'[^\\w\\s]', '', x).strip())\n",
        "    return df\n",
        "\n",
        "def normalizar_nomes_produtos(df, column='produto', threshold=60):\n",
        "    produtos_unicos = df[column].dropna().unique()\n",
        "    mapping = {}\n",
        "    for produto in produtos_unicos:\n",
        "        similares = [p for p in produtos_unicos if fuzz.ratio(produto, p) >= threshold]\n",
        "        padrao = df[df[column].isin(similares)][column].mode()[0]\n",
        "        for p in similares:\n",
        "            mapping[p] = padrao\n",
        "    df[column] = df[column].map(mapping)\n",
        "    return df\n",
        "\n",
        "df_mod = limpar_caracteres_especiais(df_mod, 'produto')\n",
        "df_mod = normalizar_nomes_produtos(df_mod, 'produto')"
      ]
    },
    {
      "cell_type": "markdown",
      "metadata": {},
      "source": [
        "### **PROBLEMA:** Problemas de Validação (CEP)\n",
        "### **SOLUÇÃO:** Validar, limpar e aplicar formato 00000-000"
      ]
    },
    {
      "cell_type": "code",
      "execution_count": 10,
      "metadata": {},
      "outputs": [],
      "source": [
        "def normalizar_cep(cep):\n",
        "    if pd.isna(cep): return '00000-000'\n",
        "    cep = re.sub(r'\\D', '', str(cep))\n",
        "    if len(cep) != 8 or cep == '00000000':\n",
        "        return '00000-000'\n",
        "    return f'{cep[:5]}-{cep[5:]}'\n",
        "\n",
        "df_mod['cep'] = df_mod['cep'].apply(normalizar_cep)"
      ]
    },
    {
      "cell_type": "markdown",
      "metadata": {},
      "source": [
        "# **Remoção de duplicatas**"
      ]
    },
    {
      "cell_type": "code",
      "execution_count": 11,
      "metadata": {},
      "outputs": [],
      "source": [
        "df_mod.drop_duplicates(inplace=True)"
      ]
    },
    {
      "cell_type": "markdown",
      "metadata": {},
      "source": [
        "# **Validação final de limpeza**"
      ]
    },
    {
      "cell_type": "code",
      "execution_count": 12,
      "metadata": {},
      "outputs": [],
      "source": [
        "assert df_mod.isnull().sum().sum() == 0, \"Ainda há valores nulos\"\n",
        "assert df_mod['quantidade'].dtype == int, \"'quantidade' não é int\"\n",
        "assert df_mod['valor'].dtype in [float, np.float64], \"'valor' não é float\"\n",
        "assert df_mod['total'].dtype in [float, np.float64], \"'total' não é float\""
      ]
    },
    {
      "cell_type": "markdown",
      "metadata": {},
      "source": [
        "# **Exportação final para CSV**"
      ]
    },
    {
      "cell_type": "code",
      "execution_count": 13,
      "metadata": {},
      "outputs": [
        {
          "name": "stdout",
          "output_type": "stream",
          "text": [
            "Arquivo exportado como 'limpeza_final.csv'\n"
          ]
        }
      ],
      "source": [
        "df_mod.to_csv(\"../limpeza_final.csv\", index=False)\n",
        "print(\"Arquivo exportado como 'limpeza_final.csv'\")"
      ]
    }
  ],
  "metadata": {
    "colab": {
      "provenance": []
    },
    "kernelspec": {
      "display_name": ".venv",
      "language": "python",
      "name": "python3"
    },
    "language_info": {
      "codemirror_mode": {
        "name": "ipython",
        "version": 3
      },
      "file_extension": ".py",
      "mimetype": "text/x-python",
      "name": "python",
      "nbconvert_exporter": "python",
      "pygments_lexer": "ipython3",
      "version": "3.11.9"
    }
  },
  "nbformat": 4,
  "nbformat_minor": 0
}
